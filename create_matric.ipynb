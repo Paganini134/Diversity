{
 "cells": [
  {
   "cell_type": "code",
   "execution_count": 1,
   "id": "37d96f8e",
   "metadata": {},
   "outputs": [],
   "source": [
    "import pickle\n",
    "import os "
   ]
  },
  {
   "cell_type": "code",
   "execution_count": 3,
   "id": "f257d88e",
   "metadata": {},
   "outputs": [],
   "source": [
    "def read_pickle(file_path):\n",
    "    \"\"\"\n",
    "    Reads a pickle file and returns the content.\n",
    "    \n",
    "    Args:\n",
    "        file_path (str): The path to the pickle file.\n",
    "        \n",
    "    Returns:\n",
    "        The content of the pickle file.\n",
    "    \"\"\"\n",
    "    with open(file_path, 'rb') as file:\n",
    "        return pickle.load(file)"
   ]
  },
  {
   "cell_type": "code",
   "execution_count": 9,
   "id": "c0b7eaa9",
   "metadata": {},
   "outputs": [
    {
     "name": "stdout",
     "output_type": "stream",
     "text": [
      "feature_batched[0] * 660 = array([[660., 333., 369., 348., 391.],\n",
      "       [660., 342., 341., 443., 392.],\n",
      "       [660., 343., 345., 372., 381.],\n",
      "       [660., 174., 205., 416., 362.],\n",
      "       [660., 445., 357., 462., 377.],\n",
      "       [660., 413., 379., 445., 438.],\n",
      "       [660., 423., 413., 443., 438.],\n",
      "       [660., 437., 399., 463., 453.],\n",
      "       [660., 444., 434., 458., 454.],\n",
      "       [660., 429., 355., 486., 430.],\n",
      "       [  0.,   0.,   0.,   0.,   0.],\n",
      "       [  0.,   0.,   0.,   0.,   0.],\n",
      "       [  0.,   0.,   0.,   0.,   0.],\n",
      "       [  0.,   0.,   0.,   0.,   0.],\n",
      "       [  0.,   0.,   0.,   0.,   0.],\n",
      "       [  0.,   0.,   0.,   0.,   0.],\n",
      "       [  0.,   0.,   0.,   0.,   0.],\n",
      "       [  0.,   0.,   0.,   0.,   0.]])\n",
      "image_batched[0].shape = (250, 313, 3)\n"
     ]
    }
   ],
   "source": [
    "data_root =\"/ssd_scratch/saksham.gupta/data/\"\n",
    "feature_bbx_batched_path = f\"X_test_combined_mask_data.np\"\n",
    "img_batched_path = f\"img_test_combined_mask_data.np\"\n",
    "feature_batched = read_pickle(os.path.join(data_root, feature_bbx_batched_path))\n",
    "image_batched = read_pickle(os.path.join(data_root, img_batched_path))\n",
    "print(f\"{feature_batched[0] * 660 = }\")\n",
    "print(f\"{image_batched[0].shape = }\")\n",
    "# Overlay bbxs on image\n",
    "def vizualize_data(img, feature):\n",
    "    pass"
   ]
  }
 ],
 "metadata": {
  "kernelspec": {
   "display_name": "base",
   "language": "python",
   "name": "python3"
  },
  "language_info": {
   "codemirror_mode": {
    "name": "ipython",
    "version": 3
   },
   "file_extension": ".py",
   "mimetype": "text/x-python",
   "name": "python",
   "nbconvert_exporter": "python",
   "pygments_lexer": "ipython3",
   "version": "3.12.4"
  }
 },
 "nbformat": 4,
 "nbformat_minor": 5
}
